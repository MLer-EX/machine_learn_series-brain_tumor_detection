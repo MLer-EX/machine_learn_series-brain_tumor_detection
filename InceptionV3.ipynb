{
 "cells": [
  {
   "metadata": {},
   "cell_type": "markdown",
   "source": [
    "#   Brain Tumor Classification using InceptionV3\n",
    "\n",
    "##   Import Necessary Libraries\n"
   ],
   "id": "783914e6f724bab1"
  },
  {
   "metadata": {},
   "cell_type": "markdown",
   "source": "",
   "id": "d13d318292713a6d"
  },
  {
   "metadata": {},
   "cell_type": "code",
   "outputs": [],
   "execution_count": null,
   "source": [
    "import tensorflow as tf\n",
    "from tensorflow.keras.layers import Dense, Flatten, Dropout\n",
    "from tensorflow.keras.optimizers import RMSprop\n",
    "from keras.src.legacy.preprocessing.image import ImageDataGenerator\n",
    "from keras.src.callbacks import EarlyStopping, ReduceLROnPlateau, ModelCheckpoint\n",
    "from sklearn.metrics import accuracy_score, confusion_matrix\n",
    "import matplotlib.pyplot as plt\n",
    "import numpy as np\n",
    "import os"
   ],
   "id": "d8e64a3a2aa36fb7"
  },
  {
   "metadata": {},
   "cell_type": "markdown",
   "source": "## Plotting Function for Confusion Matrix",
   "id": "c7e5616b18ec9144"
  },
  {
   "metadata": {},
   "cell_type": "code",
   "outputs": [],
   "execution_count": null,
   "source": [
    "def plot_confusion_mat(cm, target_names, title='Confusion matrix', cmap=None, normalize=True):\n",
    "    import matplotlib.pyplot as plat\n",
    "    import itertools\n",
    "\n",
    "    valid = np.trace(cm) / np.sum(cm).astype('float')\n",
    "    isclass = int(1 - valid)\n",
    "\n",
    "    if cmap is None:\n",
    "        cmap = plat.get_cmap('Blues')\n",
    "\n",
    "    plat.figure(figsize=(8, 6))\n",
    "    plat.imshow(cm, interpolation='nearest', cmap=cmap)\n",
    "    plat.title(title)\n",
    "    plat.colorbar()\n",
    "\n",
    "    if target_names is not None:\n",
    "        tick_marks = np.arange(len(target_names))\n",
    "        plat.xticks(tick_marks, target_names, rotation=45)\n",
    "        plat.yticks(tick_marks, target_names)\n",
    "\n",
    "    if normalize:\n",
    "        cm = cm.astype('float') / cm.sum(axis=1)[:, np.newaxis]\n",
    "\n",
    "    thresh = cm.max() / 1.5 if normalize else cm.max() / 2\n",
    "    for i, j in itertools.product(range(cm.shape[0]), range(cm.shape[1])):\n",
    "        if normalize:\n",
    "            plat.text(j, i, \"{:0.4f}\".format(cm[i, j]),\n",
    "                      horizontalalignment=\"center\",\n",
    "                      color=\"white\" if cm[i, j] > thresh else \"black\")\n",
    "        else:\n",
    "            plat.text(j, i, \"{:,}\".format(cm[i, j]),\n",
    "                      horizontalalignment=\"center\",\n",
    "                      color=\"white\" if cm[i, j] > thresh else \"black\")\n",
    "\n",
    "    plat.tight_layout()\n",
    "    plat.ylabel('True label')\n",
    "    plat.xlabel('Predicted label\\naccuracy={:0.4f}; misclass={:0.4f}'.format(accuracy, isclass))\n",
    "    plat.show()"
   ],
   "id": "de8370e01be3079e"
  },
  {
   "metadata": {},
   "cell_type": "markdown",
   "source": "## Data Augmentation",
   "id": "df8d486dd08dbd58"
  },
  {
   "metadata": {},
   "cell_type": "code",
   "outputs": [],
   "execution_count": null,
   "source": [
    "generator_train = ImageDataGenerator(rescale=1./255, horizontal_flip=True)\n",
    "generator_test = ImageDataGenerator(rescale=1./255, horizontal_flip=True)"
   ],
   "id": "9ade4d6513efb45d"
  },
  {
   "metadata": {},
   "cell_type": "markdown",
   "source": "## Creating the Train and Test Data",
   "id": "a51b8967ebd569f2"
  },
  {
   "metadata": {},
   "cell_type": "code",
   "outputs": [],
   "execution_count": null,
   "source": [
    "train = generator_train.flow_from_directory('data/Training',\n",
    "                                            target_size=(224,224),\n",
    "                                            batch_size=32,\n",
    "                                            class_mode=\"categorical\",\n",
    "                                            color_mode='rgb')\n",
    "\n",
    "test = generator_test.flow_from_directory('data/Testing',\n",
    "                                          target_size=(224,224),\n",
    "                                          batch_size=32,\n",
    "                                          class_mode=\"categorical\",\n",
    "                                          color_mode='rgb')"
   ],
   "id": "77e392072214e65f"
  },
  {
   "metadata": {},
   "cell_type": "markdown",
   "source": "## Building the InceptionV3 Model\n",
   "id": "884ecc89314ad05e"
  },
  {
   "metadata": {},
   "cell_type": "code",
   "outputs": [],
   "execution_count": null,
   "source": [
    "inceptionV3_weight_path = 'data/inception_v3_weights_tf_dim_ordering_tf_kernels_notop.h5'\n",
    "inceptionV3_base_model = tf.keras.applications.InceptionV3(include_top=False, weights=inceptionV3_weight_path, input_shape=(224, 224, 3))\n",
    "\n",
    "NUM_CLASSES = 4\n",
    "\n",
    "inceptionV3 = ()\n",
    "inceptionV3.add(inceptionV3_base_model)\n",
    "inceptionV3.add(Flatten())\n",
    "inceptionV3.add(Dropout(0.5))\n",
    "inceptionV3.add(Dense(NUM_CLASSES, activation='softmax'))\n",
    "\n",
    "inceptionV3.layers[0].trainable = False\n",
    "\n",
    "inceptionV3.compile(loss='categorical_crossentropy',\n",
    "                    optimizer=RMSprop(learning_rate=1e-4),\n",
    "                    metrics=['accuracy'])\n",
    "\n",
    "inceptionV3.summary()"
   ],
   "id": "5ff6421e8817c63f"
  },
  {
   "metadata": {},
   "cell_type": "markdown",
   "source": "## Callbacks",
   "id": "a8946a4eda4da45d"
  },
  {
   "metadata": {},
   "cell_type": "code",
   "outputs": [],
   "execution_count": null,
   "source": [
    "if not os.path.exists('models'):\n",
    "    os.makedirs('models')\n",
    "\n",
    "model_es = EarlyStopping(monitor='loss', min_delta=1e-11, patience=12, verbose=1)\n",
    "model_rlr = ReduceLROnPlateau(monitor='val_loss', factor=0.2, patience=6, verbose=1)\n",
    "model_mcp = ModelCheckpoint(filepath='models/inceptionV3_model_weights.h5', monitor='val_accuracy', save_best_only=True, verbose=1)\n"
   ],
   "id": "ab6ed28062fb62cc"
  },
  {
   "metadata": {},
   "cell_type": "markdown",
   "source": "## Training the InceptionV3 Model",
   "id": "a7fd364ffed987f0"
  },
  {
   "metadata": {},
   "cell_type": "code",
   "outputs": [],
   "execution_count": null,
   "source": [
    "history = inceptionV3.fit(train,\n",
    "                          steps_per_epoch=len(train),\n",
    "                          epochs=30,\n",
    "                          validation_data=test,\n",
    "                          validation_steps=len(test),\n",
    "                          callbacks=[model_es, model_rlr, model_mcp])"
   ],
   "id": "6c5992590b6f4110"
  },
  {
   "metadata": {},
   "cell_type": "markdown",
   "source": "## Evaluate the InceptionV3 Model\n",
   "id": "d3c2fbf205284141"
  },
  {
   "metadata": {},
   "cell_type": "code",
   "outputs": [],
   "execution_count": null,
   "source": "inceptionV3.evaluate(test)",
   "id": "ff8c27289e56aaef"
  },
  {
   "metadata": {},
   "cell_type": "markdown",
   "source": "",
   "id": "cdb9edac1af191d9"
  },
  {
   "metadata": {},
   "cell_type": "markdown",
   "source": "## Plot InceptionV3 Model Performance",
   "id": "85a22fe70225c286"
  },
  {
   "metadata": {},
   "cell_type": "code",
   "outputs": [],
   "execution_count": null,
   "source": [
    "acc = history.history['accuracy']\n",
    "val_acc = history.history['val_accuracy']\n",
    "loss = history.history['loss']\n",
    "val_loss = history.history['val_loss']\n",
    "epochs_range = range(1, len(history.epoch) + 1)\n",
    "\n",
    "plt.figure(figsize=(15, 5))\n",
    "\n",
    "plt.subplot(1, 2, 1)\n",
    "plt.plot(epochs_range, acc, label='Train Set')\n",
    "plt.plot(epochs_range, val_acc, label='Val Set')\n",
    "plt.legend(loc=\"best\")\n",
    "plt.xlabel('Epochs')\n",
    "plt.ylabel('Accuracy')\n",
    "plt.title('InceptionV3 Model Accuracy')\n",
    "\n",
    "plt.subplot(1, 2, 2)\n",
    "plt.plot(epochs_range, loss, label='Train Set')\n",
    "plt.plot(epochs_range, val_loss, label='Val Set')\n",
    "plt.legend(loc=\"best\")\n",
    "plt.xlabel('Epochs')\n",
    "plt.ylabel('Loss')\n",
    "plt.title('InceptionV3 Model Loss')\n",
    "\n",
    "plt.tight_layout()\n",
    "plt.show()"
   ],
   "id": "48f76010054b8685"
  },
  {
   "metadata": {},
   "cell_type": "markdown",
   "source": "## Validate on Test Set for InceptionV3 Model",
   "id": "ccab162b8dde6058"
  },
  {
   "metadata": {},
   "cell_type": "code",
   "outputs": [],
   "execution_count": null,
   "source": [
    "X_test, y_test = next(test)\n",
    "predictions = inceptionV3.predict(X_test)\n",
    "y_test = np.argmax(y_test, axis=1)\n",
    "pred = np.argmax(predictions, axis=1)\n",
    "\n",
    "accuracy = accuracy_score(y_test, pred)\n",
    "print('Test Accuracy = %.2f' % accuracy)\n",
    "\n",
    "confusion_mtx = confusion_matrix(y_test, pred)\n",
    "print(confusion_mtx)\n",
    "plot_confusion_mat(confusion_mtx, ['glioma', 'meningioma', 'notumor', 'pituitary'], normalize=False)"
   ],
   "id": "5730ce46977d64f"
  }
 ],
 "metadata": {
  "kernelspec": {
   "display_name": "Python 3",
   "language": "python",
   "name": "python3"
  },
  "language_info": {
   "codemirror_mode": {
    "name": "ipython",
    "version": 2
   },
   "file_extension": ".py",
   "mimetype": "text/x-python",
   "name": "python",
   "nbconvert_exporter": "python",
   "pygments_lexer": "ipython2",
   "version": "2.7.6"
  }
 },
 "nbformat": 4,
 "nbformat_minor": 5
}
